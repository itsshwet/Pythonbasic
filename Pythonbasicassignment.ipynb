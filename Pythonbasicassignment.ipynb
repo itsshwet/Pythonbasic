{
 "cells": [
  {
   "cell_type": "raw",
   "id": "1d9655c1-c689-46d1-80dc-b1d320ff877c",
   "metadata": {},
   "source": [
    "Assignment: Python Basic "
   ]
  },
  {
   "cell_type": "markdown",
   "id": "ba73acc5-5876-4cfe-90d3-c28e2804f208",
   "metadata": {},
   "source": [
    "1:Explain the key features of Python that make it a popular choice for programming?\n",
    "Ans:There are several key Features That Create Python a popular choice for programming:\n",
    "\n",
    "1: Easy to Learn and Read: \n",
    "    python consiting a syntax that make it easier to understand and many of the syntax are related to the common english words.\n",
    "    which makes it easier to understand for a Beginner. \n",
    "                            \n",
    "2:Wide Range of Applications\n",
    "    Web development \n",
    "    Data science and machine learning \n",
    "    Automation and scripting\n",
    "    Game development, network programming, and more  \n",
    "\n",
    "3:Large Community and Support\n",
    "    Lots of documentation, tutorials, and third-party libraries are available.\n",
    "    You can easily get help on platforms like Stack Overflow or GitHub.\n",
    "\n",
    "4:Extensive Standard Library\n",
    "    Python comes with many built-in modules for tasks like file handling, regular expressions, web services, \n",
    "    etc. eg: Matplotlib,Django,glob,NumPy    "
   ]
  },
  {
   "cell_type": "markdown",
   "id": "3026a2dc-869c-408c-b698-83bbfde98b0f",
   "metadata": {},
   "source": [
    "2:Describe the role of predefined keywords in Python and provide examples of how they are used in a\n",
    "  program?\n",
    "  \n",
    "Ans:Keywords in Python are reserved words that have a special meaning in the language. You cannot use them as variable names, function names, or identifiers.\n",
    "some examples of keywords\n",
    "print: for printing the syntax\n",
    "if, else, elif:used as conditional statement\n",
    "for, while: used for loops\n",
    "type: for finding the type of data\n",
    "and, or, not: logical operator\n",
    "true, false : boolian value"
   ]
  },
  {
   "cell_type": "code",
   "execution_count": 2,
   "id": "e97fdcec-c2b5-4760-ac13-e492206c6776",
   "metadata": {},
   "outputs": [
    {
     "name": "stdout",
     "output_type": "stream",
     "text": [
      "hello pw world\n"
     ]
    }
   ],
   "source": [
    "print(\"hello pw world\") #this is the one of the example of the print staement used as predefined keyword."
   ]
  },
  {
   "cell_type": "code",
   "execution_count": 18,
   "id": "176b3a11-05da-44ca-bbe8-ecd0f7c72b12",
   "metadata": {},
   "outputs": [
    {
     "data": {
      "text/plain": [
       "False"
      ]
     },
     "execution_count": 18,
     "metadata": {},
     "output_type": "execute_result"
    }
   ],
   "source": [
    "x=2\n",
    "y=4    \n",
    "x==y   "
   ]
  },
  {
   "cell_type": "markdown",
   "id": "26c2e6da-f362-4a5f-a52c-ee235251769c",
   "metadata": {},
   "source": [
    "3: Compare and contrast mutable and immutable objects in Python with examples?\n",
    "Ans: Mutable Objects\n",
    "These can be changed after creation.\n",
    "Examples: list, dict, set\n"
   ]
  },
  {
   "cell_type": "code",
   "execution_count": 20,
   "id": "39c964a9-a2f2-4b3d-b877-a794c92640d7",
   "metadata": {},
   "outputs": [
    {
     "name": "stdout",
     "output_type": "stream",
     "text": [
      "[100, 2, 3]\n"
     ]
    }
   ],
   "source": [
    "my_list = [1, 2, 3] 3 #eg of mutable objects\n",
    "my_list[0] = 100\n",
    "print(my_list)  \n"
   ]
  },
  {
   "cell_type": "markdown",
   "id": "7707afcc-f1d3-4209-b00a-e94faac9c0f1",
   "metadata": {},
   "source": [
    "Immutable Objects\n",
    "These cannot be changed after creation.\n",
    "Examples: int, float, str, tuple, bool,"
   ]
  },
  {
   "cell_type": "code",
   "execution_count": 22,
   "id": "17ea6bd7-5141-48da-84c0-4ac6285d4064",
   "metadata": {},
   "outputs": [
    {
     "ename": "TypeError",
     "evalue": "'str' object does not support item assignment",
     "output_type": "error",
     "traceback": [
      "\u001b[1;31m---------------------------------------------------------------------------\u001b[0m",
      "\u001b[1;31mTypeError\u001b[0m                                 Traceback (most recent call last)",
      "Cell \u001b[1;32mIn[22], line 2\u001b[0m\n\u001b[0;32m      1\u001b[0m my_string \u001b[38;5;241m=\u001b[39m \u001b[38;5;124m\"\u001b[39m\u001b[38;5;124mhello\u001b[39m\u001b[38;5;124m\"\u001b[39m\n\u001b[1;32m----> 2\u001b[0m my_string[\u001b[38;5;241m0\u001b[39m] \u001b[38;5;241m=\u001b[39m \u001b[38;5;124m'\u001b[39m\u001b[38;5;124mH\u001b[39m\u001b[38;5;124m'\u001b[39m\n",
      "\u001b[1;31mTypeError\u001b[0m: 'str' object does not support item assignment"
     ]
    }
   ],
   "source": [
    "my_string = \"hello\"\n",
    "my_string[0] = 'H'  # eg of immutable object we can not change in string This will raise an error."
   ]
  },
  {
   "cell_type": "markdown",
   "id": "3827a08e-5eb6-45e2-bbf3-0e504769d7f1",
   "metadata": {},
   "source": [
    "4: Discuss the different types of operators in Python and provide examples of how they are used?\n",
    "Ans:1. Arithmetic Operators\n",
    "Used to perform basic math operations.\t\n",
    "+\tAddition\t\n",
    "-\tSubtraction\t\n",
    "*\tMultiplication\t\n",
    "/\tDivision\t\n",
    "//\tFloor Division\t\n",
    "%\tModulus\t\n",
    "**\tExponentiation\n",
    "\n",
    "Comparison Operators\n",
    "Used to compare values and return a boolean result.\n",
    "\n",
    "==\tEqual to\t\n",
    "!=\tNot equal to\t\n",
    ">   Greater than\t\n",
    "<\tLess than\t\n",
    ">=\tGreater than or equal\t\n",
    "<=\tLess than or equal\n",
    "\t \n",
    "Assignment Operators\n",
    "Used to assign values to variables.\n",
    "\t\t\n",
    "=\t x = 5\t \n",
    "+=\t x += 3\t\n",
    "-= \t x -= 2\t\n",
    "*=\t x *= 4\t\n",
    "/=\t x /= 2\t \n",
    "//=\t x //= 2\t\n",
    "%=\t x %= 3\t\n",
    "**=\t x **= 2\n",
    "\n",
    "Logical Operators\n",
    "Used to combine conditional statements.\n",
    "\n",
    "and\t True if both are true\t\n",
    "or\t True if at least one is true\t\n",
    "not\t Inverts the result\tnot True \n",
    "\n",
    "5. Membership Operators\n",
    "Used to check if a value is in a sequence.\n",
    "\n",
    "in\t    True if value found\t\n",
    "not in\tTrue if not found\t\n",
    "\n",
    "6. Identity Operators\n",
    "Used to compare memory locations.\n",
    "\n",
    "is\t    True if same object\t\n",
    "is not\tTrue if not same object\t\n",
    "\n",
    "7. Bitwise Operators\n",
    "   Used for binary operations.\n",
    "   \n",
    "&\tAND\t\t\n",
    "^\tXOR\t\n",
    "~\tNOT\t\n",
    "<<\tLeft Shift\t\n",
    ">>\tRight Shift\t"
   ]
  },
  {
   "cell_type": "code",
   "execution_count": 24,
   "id": "5d24f39c-e32f-4dcb-b55f-4936ed9a42b0",
   "metadata": {},
   "outputs": [
    {
     "data": {
      "text/plain": [
       "8"
      ]
     },
     "execution_count": 24,
     "metadata": {},
     "output_type": "execute_result"
    }
   ],
   "source": [
    "#eg of arithmatic operator\n",
    "5+3"
   ]
  },
  {
   "cell_type": "code",
   "execution_count": 26,
   "id": "852ec11e-f74e-4986-b973-e5e46e85de49",
   "metadata": {},
   "outputs": [
    {
     "data": {
      "text/plain": [
       "2"
      ]
     },
     "execution_count": 26,
     "metadata": {},
     "output_type": "execute_result"
    }
   ],
   "source": [
    "5-3"
   ]
  },
  {
   "cell_type": "code",
   "execution_count": 28,
   "id": "cea0d1cd-73c9-4e5b-904a-6b98da1c178e",
   "metadata": {},
   "outputs": [
    {
     "data": {
      "text/plain": [
       "1"
      ]
     },
     "execution_count": 28,
     "metadata": {},
     "output_type": "execute_result"
    }
   ],
   "source": [
    "5//3"
   ]
  },
  {
   "cell_type": "code",
   "execution_count": 32,
   "id": "0cefe63c-8549-4ed8-a78b-196c04a5466d",
   "metadata": {},
   "outputs": [
    {
     "data": {
      "text/plain": [
       "15"
      ]
     },
     "execution_count": 32,
     "metadata": {},
     "output_type": "execute_result"
    }
   ],
   "source": [
    "5*3"
   ]
  },
  {
   "cell_type": "code",
   "execution_count": 34,
   "id": "195be3e7-8099-48e6-a006-6a0b76e57d13",
   "metadata": {},
   "outputs": [
    {
     "data": {
      "text/plain": [
       "False"
      ]
     },
     "execution_count": 34,
     "metadata": {},
     "output_type": "execute_result"
    }
   ],
   "source": [
    "#eg of comparison operator\n",
    "5==3"
   ]
  },
  {
   "cell_type": "code",
   "execution_count": 36,
   "id": "9ee4f1b9-2915-4ead-97f1-060573da3441",
   "metadata": {},
   "outputs": [
    {
     "data": {
      "text/plain": [
       "True"
      ]
     },
     "execution_count": 36,
     "metadata": {},
     "output_type": "execute_result"
    }
   ],
   "source": [
    "5>=3"
   ]
  },
  {
   "cell_type": "code",
   "execution_count": 40,
   "id": "1510cf93-f85d-4161-af15-946c804127e5",
   "metadata": {},
   "outputs": [
    {
     "data": {
      "text/plain": [
       "False"
      ]
     },
     "execution_count": 40,
     "metadata": {},
     "output_type": "execute_result"
    }
   ],
   "source": [
    "5<=3"
   ]
  },
  {
   "cell_type": "code",
   "execution_count": 50,
   "id": "8c96f0ee-6c9c-4f70-b055-4a1df2f815ab",
   "metadata": {},
   "outputs": [
    {
     "name": "stdout",
     "output_type": "stream",
     "text": [
      "8\n"
     ]
    }
   ],
   "source": [
    "#eg of assignment operator\n",
    "x=5\n",
    "x=x+3\n",
    "print (x)"
   ]
  },
  {
   "cell_type": "code",
   "execution_count": 52,
   "id": "cb535a3a-b3bd-4c87-acb7-4ebd905b51ee",
   "metadata": {},
   "outputs": [
    {
     "name": "stdout",
     "output_type": "stream",
     "text": [
      "5\n"
     ]
    }
   ],
   "source": [
    "x=x-3\n",
    "print(x)"
   ]
  },
  {
   "cell_type": "code",
   "execution_count": 54,
   "id": "57cb987e-88f2-4536-be4c-773e2096adda",
   "metadata": {},
   "outputs": [
    {
     "name": "stdout",
     "output_type": "stream",
     "text": [
      "20\n"
     ]
    }
   ],
   "source": [
    "x = x * 4\n",
    "print(x)"
   ]
  },
  {
   "cell_type": "code",
   "execution_count": 56,
   "id": "1312eb1a-79d5-4a59-a9a7-adc325636793",
   "metadata": {},
   "outputs": [
    {
     "data": {
      "text/plain": [
       "True"
      ]
     },
     "execution_count": 56,
     "metadata": {},
     "output_type": "execute_result"
    }
   ],
   "source": [
    "#eg of logical operator\n",
    "True is True"
   ]
  },
  {
   "cell_type": "code",
   "execution_count": 58,
   "id": "eb280e19-ac86-4fc4-8942-d15bed0a1f64",
   "metadata": {},
   "outputs": [
    {
     "data": {
      "text/plain": [
       "True"
      ]
     },
     "execution_count": 58,
     "metadata": {},
     "output_type": "execute_result"
    }
   ],
   "source": [
    "True or False"
   ]
  },
  {
   "cell_type": "code",
   "execution_count": 60,
   "id": "17cbd891-544c-453b-8bf7-1b86bdbed72a",
   "metadata": {},
   "outputs": [
    {
     "data": {
      "text/plain": [
       "False"
      ]
     },
     "execution_count": 60,
     "metadata": {},
     "output_type": "execute_result"
    }
   ],
   "source": [
    "True is not True"
   ]
  },
  {
   "cell_type": "code",
   "execution_count": 62,
   "id": "8b5825c0-7b21-45fc-9a69-8022b9283dfd",
   "metadata": {},
   "outputs": [
    {
     "data": {
      "text/plain": [
       "True"
      ]
     },
     "execution_count": 62,
     "metadata": {},
     "output_type": "execute_result"
    }
   ],
   "source": [
    "True is not False"
   ]
  },
  {
   "cell_type": "code",
   "execution_count": 6,
   "id": "4ac989a3-e9de-4c54-94c2-6db46c314d79",
   "metadata": {},
   "outputs": [],
   "source": [
    "#eg of membership operator\n",
    "x = (\"Apple\")"
   ]
  },
  {
   "cell_type": "code",
   "execution_count": 8,
   "id": "92dd1d54-c58b-473f-9cdc-6d509b68f3a0",
   "metadata": {},
   "outputs": [
    {
     "data": {
      "text/plain": [
       "True"
      ]
     },
     "execution_count": 8,
     "metadata": {},
     "output_type": "execute_result"
    }
   ],
   "source": [
    "(\"A\") in x"
   ]
  },
  {
   "cell_type": "code",
   "execution_count": 10,
   "id": "1c8f7d9e-ab25-4e5a-a3da-3fb3840fb729",
   "metadata": {},
   "outputs": [
    {
     "data": {
      "text/plain": [
       "False"
      ]
     },
     "execution_count": 10,
     "metadata": {},
     "output_type": "execute_result"
    }
   ],
   "source": [
    "(\"a\") in x"
   ]
  },
  {
   "cell_type": "code",
   "execution_count": 16,
   "id": "4f66fd15-f484-40c6-b012-f9d149f9f8f5",
   "metadata": {},
   "outputs": [
    {
     "data": {
      "text/plain": [
       "False"
      ]
     },
     "execution_count": 16,
     "metadata": {},
     "output_type": "execute_result"
    }
   ],
   "source": [
    "(\"A\") not in x"
   ]
  },
  {
   "cell_type": "markdown",
   "id": "6730a370-8621-465b-bbaa-009e9bf3bf61",
   "metadata": {},
   "source": [
    "5:Explain the concept of type casting in Python with examples?\n",
    "Ans:Type Casting in Python\n",
    "Type casting means converting one data type into another. In Python, this is often done using built-in functions.\n",
    "\n",
    "There are two types:Implicit type casting\n",
    "                    Explicit type casting\n",
    "                    \n",
    ". Implicit Type Casting\n",
    "Python automatically converts one type to another during an operation.\n"
   ]
  },
  {
   "cell_type": "code",
   "execution_count": 18,
   "id": "394d3cac-5129-4285-8204-cd010dad9c11",
   "metadata": {},
   "outputs": [
    {
     "name": "stdout",
     "output_type": "stream",
     "text": [
      "7.0\n"
     ]
    }
   ],
   "source": [
    "a=5\n",
    "b=2.0      #eg of the implicit type casting\n",
    "c=a+b\n",
    "print(c)"
   ]
  },
  {
   "cell_type": "code",
   "execution_count": 20,
   "id": "b583c69b-b55f-430b-b536-eac6a0bda730",
   "metadata": {},
   "outputs": [
    {
     "data": {
      "text/plain": [
       "float"
      ]
     },
     "execution_count": 20,
     "metadata": {},
     "output_type": "execute_result"
    }
   ],
   "source": [
    "type(c) #the result will be float"
   ]
  },
  {
   "cell_type": "code",
   "execution_count": 22,
   "id": "db092171-7672-43a1-be74-dc3fd39fe32f",
   "metadata": {},
   "outputs": [
    {
     "data": {
      "text/plain": [
       "int"
      ]
     },
     "execution_count": 22,
     "metadata": {},
     "output_type": "execute_result"
    }
   ],
   "source": [
    "type(a) #the result will be int"
   ]
  },
  {
   "cell_type": "markdown",
   "id": "64cdc29a-acbe-4a37-a80c-eb0e23869619",
   "metadata": {},
   "source": [
    "Explicit Type Casting\n",
    "You manually convert a value from one type to another using functions like:\n",
    "int()\n",
    "float()\n",
    "str()"
   ]
  },
  {
   "cell_type": "code",
   "execution_count": 27,
   "id": "33ef7a4a-f300-475c-b0dd-07c84d5b3b24",
   "metadata": {},
   "outputs": [
    {
     "data": {
      "text/plain": [
       "1.0"
      ]
     },
     "execution_count": 27,
     "metadata": {},
     "output_type": "execute_result"
    }
   ],
   "source": [
    "a=1       #eg of the explicit type casting\n",
    "float(a)"
   ]
  },
  {
   "cell_type": "code",
   "execution_count": 29,
   "id": "d2092d89-1063-41a0-b911-accd4cd1a398",
   "metadata": {},
   "outputs": [
    {
     "data": {
      "text/plain": [
       "'1'"
      ]
     },
     "execution_count": 29,
     "metadata": {},
     "output_type": "execute_result"
    }
   ],
   "source": [
    "str(a)"
   ]
  },
  {
   "cell_type": "markdown",
   "id": "cf5d5093-5f68-4204-8430-b2648a4cecfc",
   "metadata": {},
   "source": [
    "6:How do conditional statements work in Python? Illustrate with examples?\n",
    "Ans:Conditional statements are used to make decisions in code — they allow Python to choose different paths based on conditions.\n",
    "The main types are:\n",
    "if\n",
    "if...else\n",
    "if...elif...else"
   ]
  },
  {
   "cell_type": "code",
   "execution_count": 34,
   "id": "31dc49cb-854b-4e73-a2f3-02885e725c5a",
   "metadata": {},
   "outputs": [
    {
     "name": "stdout",
     "output_type": "stream",
     "text": [
      "x is greater than 5\n"
     ]
    }
   ],
   "source": [
    "'''if Statement\n",
    "'''Executes a block only if the condition is true.\n",
    "x = 10\n",
    "if x > 5:\n",
    "    print(\"x is greater than 5\")"
   ]
  },
  {
   "cell_type": "code",
   "execution_count": 36,
   "id": "bc1a8ea3-2adb-488e-841f-842eb694811e",
   "metadata": {},
   "outputs": [
    {
     "name": "stdout",
     "output_type": "stream",
     "text": [
      "x is 5 or less\n"
     ]
    }
   ],
   "source": [
    "'''if...else Statement\n",
    "'''If the condition is true, the if block runs; otherwise, the else block runs.\n",
    "x = 3\n",
    "if x > 5:\n",
    "    print(\"x is greater than 5\")\n",
    "else:\n",
    "    print(\"x is 5 or less\")\n"
   ]
  },
  {
   "cell_type": "code",
   "execution_count": 40,
   "id": "e13fed6e-0ad2-4944-a5db-43af25c67bc3",
   "metadata": {},
   "outputs": [
    {
     "name": "stdout",
     "output_type": "stream",
     "text": [
      "x is equal to 7\n"
     ]
    }
   ],
   "source": [
    "'if...elif...else'\n",
    "'Used to check multiple conditions'\n",
    "x = 7\n",
    "if x < 5:\n",
    "    print(\"x is less than 5\")\n",
    "elif x == 7:\n",
    "    print(\"x is equal to 7\")\n",
    "else:\n",
    "    print(\"x is something else\")\n"
   ]
  },
  {
   "cell_type": "code",
   "execution_count": 42,
   "id": "593da883-4aac-491e-8206-d19e463ede4b",
   "metadata": {},
   "outputs": [
    {
     "name": "stdout",
     "output_type": "stream",
     "text": [
      "x is positive and even\n"
     ]
    }
   ],
   "source": [
    "#Nested if Statements\n",
    "#if statements inside another if.\n",
    "x = 10\n",
    "if x > 0:\n",
    "    if x % 2 == 0:\n",
    "        print(\"x is positive and even\")\n",
    "    else:\n",
    "        print(\"x is positive and odd\")\n"
   ]
  },
  {
   "cell_type": "markdown",
   "id": "e3c9eec4-a902-4e00-8501-7e5264099252",
   "metadata": {},
   "source": [
    "7:Describe the different types of loops in Python and their use cases with examples?\n",
    "Ans:Loops are used to repeat a block of code multiple times. Python supports two main types of loops:\n",
    "\n",
    "1:for Loop\n",
    "Used to iterate over a sequence (like a list, tuple, string, or range)."
   ]
  },
  {
   "cell_type": "code",
   "execution_count": 44,
   "id": "136eb437-7a53-4fa4-b025-71a67dcd4d36",
   "metadata": {},
   "outputs": [
    {
     "name": "stdout",
     "output_type": "stream",
     "text": [
      "apple\n",
      "banana\n",
      "cherry\n"
     ]
    }
   ],
   "source": [
    "fruits = [\"apple\", \"banana\", \"cherry\"]\n",
    "for fruit in fruits:\n",
    "    print(fruit)\n"
   ]
  },
  {
   "cell_type": "code",
   "execution_count": 52,
   "id": "26ba66d2-ce5d-4348-8fc7-b43606cdd6e9",
   "metadata": {},
   "outputs": [
    {
     "name": "stdout",
     "output_type": "stream",
     "text": [
      "1\n",
      "2\n",
      "3\n",
      "4\n",
      "5\n"
     ]
    }
   ],
   "source": [
    "2. #while Loop\n",
    "#Repeats as long as a condition is true.\n",
    "i = 1\n",
    "while i <= 5:\n",
    "    print(i)\n",
    "    i += 1\n"
   ]
  },
  {
   "cell_type": "code",
   "execution_count": 56,
   "id": "4346ad51-8b09-4f7f-8ebe-f7280eee3244",
   "metadata": {},
   "outputs": [
    {
     "name": "stdout",
     "output_type": "stream",
     "text": [
      "0\n",
      "1\n",
      "2\n",
      "3\n",
      "4\n"
     ]
    }
   ],
   "source": [
    "#3. Loop Control Statements\n",
    "#a) break\n",
    "#Exits the loop early.\n",
    "for i in range(10):\n",
    "    if i == 5:\n",
    "        break\n",
    "    print(i)\n"
   ]
  },
  {
   "cell_type": "code",
   "execution_count": 58,
   "id": "e2242d95-710a-4913-990f-dcd27e5e551e",
   "metadata": {},
   "outputs": [
    {
     "name": "stdout",
     "output_type": "stream",
     "text": [
      "0\n",
      "1\n",
      "3\n",
      "4\n"
     ]
    }
   ],
   "source": [
    "#b) continue\n",
    "#Skips the current iteration and goes to the next one.\n",
    "for i in range(5):\n",
    "    if i == 2:\n",
    "        continue\n",
    "    print(i)\n"
   ]
  },
  {
   "cell_type": "code",
   "execution_count": 60,
   "id": "014c17f2-da1e-4b81-b87f-442c1bbbb269",
   "metadata": {},
   "outputs": [
    {
     "name": "stdout",
     "output_type": "stream",
     "text": [
      "0\n",
      "1\n",
      "2\n",
      "Loop ended without break\n"
     ]
    }
   ],
   "source": [
    "#else with loops\n",
    "#Runs after the loop finishes, unless a break is hit.\n",
    "for i in range(3):\n",
    "    print(i)\n",
    "else:\n",
    "    print(\"Loop ended without break\")\n"
   ]
  },
  {
   "cell_type": "code",
   "execution_count": 64,
   "id": "e98ff495-62c3-42b2-bad9-a26098baed8f",
   "metadata": {},
   "outputs": [
    {
     "name": "stdout",
     "output_type": "stream",
     "text": [
      "THE END OF THE ASSIGNMENT\n"
     ]
    }
   ],
   "source": [
    "print(\"THE END OF THE ASSIGNMENT\")"
   ]
  },
  {
   "cell_type": "code",
   "execution_count": null,
   "id": "e5c6ea3c-0f4f-49b8-a343-6cc1bfd4cbb4",
   "metadata": {},
   "outputs": [],
   "source": []
  },
  {
   "cell_type": "code",
   "execution_count": null,
   "id": "413b9e5c-ecb1-406e-b4c6-a5b646efc562",
   "metadata": {},
   "outputs": [],
   "source": []
  }
 ],
 "metadata": {
  "kernelspec": {
   "display_name": "Python [conda env:base] *",
   "language": "python",
   "name": "conda-base-py"
  },
  "language_info": {
   "codemirror_mode": {
    "name": "ipython",
    "version": 3
   },
   "file_extension": ".py",
   "mimetype": "text/x-python",
   "name": "python",
   "nbconvert_exporter": "python",
   "pygments_lexer": "ipython3",
   "version": "3.12.7"
  }
 },
 "nbformat": 4,
 "nbformat_minor": 5
}
